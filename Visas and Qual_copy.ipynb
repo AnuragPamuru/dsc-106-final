{
 "cells": [
  {
   "cell_type": "code",
   "execution_count": 11,
   "metadata": {},
   "outputs": [],
   "source": [
    "import pandas as pd\n",
    "import numpy as np"
   ]
  },
  {
   "cell_type": "code",
   "execution_count": 12,
   "metadata": {},
   "outputs": [
    {
     "data": {
      "text/plain": [
       "Citizenship  Decision\n",
       "AFGHANISTAN  Y            3\n",
       "             N            1\n",
       "ALBANIA      Y           10\n",
       "             N            2\n",
       "ALGERIA      N            2\n",
       "                         ..\n",
       "YUGOSLAVIA   N            1\n",
       "ZAMBIA       Y            3\n",
       "             N            1\n",
       "ZIMBABWE     Y           16\n",
       "             N            1\n",
       "Name: Decision, Length: 277, dtype: int64"
      ]
     },
     "execution_count": 12,
     "metadata": {},
     "output_type": "execute_result"
    }
   ],
   "source": [
    "visa = pd.read_csv(\"visa.csv\", index_col = 0)\n",
    "\n",
    "visa.groupby(\"Citizenship\")[\"Decision\"].value_counts()"
   ]
  },
  {
   "cell_type": "code",
   "execution_count": 13,
   "metadata": {},
   "outputs": [
    {
     "data": {
      "text/html": [
       "<div>\n",
       "<style scoped>\n",
       "    .dataframe tbody tr th:only-of-type {\n",
       "        vertical-align: middle;\n",
       "    }\n",
       "\n",
       "    .dataframe tbody tr th {\n",
       "        vertical-align: top;\n",
       "    }\n",
       "\n",
       "    .dataframe thead th {\n",
       "        text-align: right;\n",
       "    }\n",
       "</style>\n",
       "<table border=\"1\" class=\"dataframe\">\n",
       "  <thead>\n",
       "    <tr style=\"text-align: right;\">\n",
       "      <th></th>\n",
       "      <th>Category</th>\n",
       "      <th>Citizenship</th>\n",
       "      <th>Application Type</th>\n",
       "      <th>Visa Class</th>\n",
       "      <th>Decision</th>\n",
       "    </tr>\n",
       "  </thead>\n",
       "  <tbody>\n",
       "    <tr>\n",
       "      <td>0</td>\n",
       "      <td>Automotive</td>\n",
       "      <td>ECUADOR</td>\n",
       "      <td>MAILEDIN</td>\n",
       "      <td>EWI</td>\n",
       "      <td>Y</td>\n",
       "    </tr>\n",
       "    <tr>\n",
       "      <td>1</td>\n",
       "      <td>Advanced Mfg</td>\n",
       "      <td>INDIA</td>\n",
       "      <td>ONLINE</td>\n",
       "      <td>H-1B</td>\n",
       "      <td>Y</td>\n",
       "    </tr>\n",
       "    <tr>\n",
       "      <td>2</td>\n",
       "      <td>Advanced Mfg</td>\n",
       "      <td>PHILIPPINES</td>\n",
       "      <td>ONLINE</td>\n",
       "      <td>L-1</td>\n",
       "      <td>Y</td>\n",
       "    </tr>\n",
       "    <tr>\n",
       "      <td>3</td>\n",
       "      <td>Advanced Mfg</td>\n",
       "      <td>INDIA</td>\n",
       "      <td>ONLINE</td>\n",
       "      <td>H-1B</td>\n",
       "      <td>Y</td>\n",
       "    </tr>\n",
       "    <tr>\n",
       "      <td>4</td>\n",
       "      <td>Advanced Mfg</td>\n",
       "      <td>INDIA</td>\n",
       "      <td>ONLINE</td>\n",
       "      <td>H-1B</td>\n",
       "      <td>Y</td>\n",
       "    </tr>\n",
       "  </tbody>\n",
       "</table>\n",
       "</div>"
      ],
      "text/plain": [
       "       Category  Citizenship Application Type Visa Class Decision\n",
       "0    Automotive      ECUADOR         MAILEDIN        EWI        Y\n",
       "1  Advanced Mfg        INDIA           ONLINE       H-1B        Y\n",
       "2  Advanced Mfg  PHILIPPINES           ONLINE        L-1        Y\n",
       "3  Advanced Mfg        INDIA           ONLINE       H-1B        Y\n",
       "4  Advanced Mfg        INDIA           ONLINE       H-1B        Y"
      ]
     },
     "execution_count": 13,
     "metadata": {},
     "output_type": "execute_result"
    }
   ],
   "source": [
    "visa.head()"
   ]
  },
  {
   "cell_type": "code",
   "execution_count": 14,
   "metadata": {},
   "outputs": [
    {
     "data": {
      "text/plain": [
       "array(['EWI', 'H-1B', 'L-1', 'E-2', 'TPS', 'B-2', 'B-1', 'F-1', 'H-2B',\n",
       "       'VWT', 'Parolee', 'TN', 'Not in USA', 'H-4', 'F-2', 'E-3', 'O-1',\n",
       "       'H-2A', 'H-1B1', 'E-1', 'G-5', 'A-3', 'A1/A2', 'H-3', 'P-1', 'C-1',\n",
       "       'L-2', 'VWB', 'J-1', 'O-3', 'O-2', 'J-2', 'G-4', 'H-1A', 'R-1',\n",
       "       'I', 'H1B', 'N', 'T-1', 'TD', 'Parol', 'AOS/H-1B', 'M-1', 'P-3',\n",
       "       'K-1'], dtype=object)"
      ]
     },
     "execution_count": 14,
     "metadata": {},
     "output_type": "execute_result"
    }
   ],
   "source": [
    "visa[\"Visa Class\"].unique()"
   ]
  },
  {
   "cell_type": "markdown",
   "metadata": {},
   "source": [
    "- H-1B: work visa for professionals working in US\n",
    "- L-1: work visa for foreiners opening business in US\n",
    "- F-1: student visa\n",
    "- Parolee: a permit for non-US national who does not have valid immigrant visa, but need to reenter"
   ]
  },
  {
   "cell_type": "code",
   "execution_count": 15,
   "metadata": {},
   "outputs": [
    {
     "data": {
      "text/plain": [
       "H-1B       0.851572\n",
       "L-1        0.036200\n",
       "F-1        0.028478\n",
       "Parolee    0.019538\n",
       "Name: Visa Class, dtype: float64"
      ]
     },
     "execution_count": 15,
     "metadata": {},
     "output_type": "execute_result"
    }
   ],
   "source": [
    "(visa[\"Visa Class\"].value_counts() / len(visa)).head(4)"
   ]
  },
  {
   "cell_type": "code",
   "execution_count": 16,
   "metadata": {},
   "outputs": [
    {
     "data": {
      "text/plain": [
       "45"
      ]
     },
     "execution_count": 16,
     "metadata": {},
     "output_type": "execute_result"
    }
   ],
   "source": [
    "len(visa[\"Visa Class\"].unique())"
   ]
  },
  {
   "cell_type": "code",
   "execution_count": 23,
   "metadata": {},
   "outputs": [
    {
     "data": {
      "text/html": [
       "<div>\n",
       "<style scoped>\n",
       "    .dataframe tbody tr th:only-of-type {\n",
       "        vertical-align: middle;\n",
       "    }\n",
       "\n",
       "    .dataframe tbody tr th {\n",
       "        vertical-align: top;\n",
       "    }\n",
       "\n",
       "    .dataframe thead th {\n",
       "        text-align: right;\n",
       "    }\n",
       "</style>\n",
       "<table border=\"1\" class=\"dataframe\">\n",
       "  <thead>\n",
       "    <tr style=\"text-align: right;\">\n",
       "      <th></th>\n",
       "      <th>category</th>\n",
       "      <th>citizenship</th>\n",
       "      <th>application type</th>\n",
       "      <th>visa class</th>\n",
       "      <th>decision</th>\n",
       "    </tr>\n",
       "  </thead>\n",
       "  <tbody>\n",
       "    <tr>\n",
       "      <td>0</td>\n",
       "      <td>Automotive</td>\n",
       "      <td>ECUADOR</td>\n",
       "      <td>MAILEDIN</td>\n",
       "      <td>EWI</td>\n",
       "      <td>Y</td>\n",
       "    </tr>\n",
       "    <tr>\n",
       "      <td>1</td>\n",
       "      <td>Advanced Mfg</td>\n",
       "      <td>INDIA</td>\n",
       "      <td>ONLINE</td>\n",
       "      <td>H-1B</td>\n",
       "      <td>Y</td>\n",
       "    </tr>\n",
       "    <tr>\n",
       "      <td>2</td>\n",
       "      <td>Advanced Mfg</td>\n",
       "      <td>PHILIPPINES</td>\n",
       "      <td>ONLINE</td>\n",
       "      <td>L-1</td>\n",
       "      <td>Y</td>\n",
       "    </tr>\n",
       "    <tr>\n",
       "      <td>3</td>\n",
       "      <td>Advanced Mfg</td>\n",
       "      <td>INDIA</td>\n",
       "      <td>ONLINE</td>\n",
       "      <td>H-1B</td>\n",
       "      <td>Y</td>\n",
       "    </tr>\n",
       "    <tr>\n",
       "      <td>4</td>\n",
       "      <td>Advanced Mfg</td>\n",
       "      <td>INDIA</td>\n",
       "      <td>ONLINE</td>\n",
       "      <td>H-1B</td>\n",
       "      <td>Y</td>\n",
       "    </tr>\n",
       "  </tbody>\n",
       "</table>\n",
       "</div>"
      ],
      "text/plain": [
       "       category  citizenship application type visa class decision\n",
       "0    Automotive      ECUADOR         MAILEDIN        EWI        Y\n",
       "1  Advanced Mfg        INDIA           ONLINE       H-1B        Y\n",
       "2  Advanced Mfg  PHILIPPINES           ONLINE        L-1        Y\n",
       "3  Advanced Mfg        INDIA           ONLINE       H-1B        Y\n",
       "4  Advanced Mfg        INDIA           ONLINE       H-1B        Y"
      ]
     },
     "execution_count": 23,
     "metadata": {},
     "output_type": "execute_result"
    }
   ],
   "source": [
    "visa.columns = visa.columns.str.lower()\n",
    "visa.to_csv(\"./data/visa.csv\")\n",
    "visa.head()"
   ]
  },
  {
   "cell_type": "code",
   "execution_count": 31,
   "metadata": {},
   "outputs": [
    {
     "ename": "NameError",
     "evalue": "name 'count' is not defined",
     "output_type": "error",
     "traceback": [
      "\u001b[0;31m---------------------------------------------------------------------------\u001b[0m",
      "\u001b[0;31mNameError\u001b[0m                                 Traceback (most recent call last)",
      "\u001b[0;32m<ipython-input-31-31d82ce79f98>\u001b[0m in \u001b[0;36m<module>\u001b[0;34m\u001b[0m\n\u001b[0;32m----> 1\u001b[0;31m \u001b[0mpd\u001b[0m\u001b[0;34m.\u001b[0m\u001b[0mpivot_table\u001b[0m\u001b[0;34m(\u001b[0m\u001b[0mvisa\u001b[0m\u001b[0;34m,\u001b[0m \u001b[0mindex\u001b[0m\u001b[0;34m=\u001b[0m\u001b[0;34m[\u001b[0m\u001b[0;34m\"citizenship\"\u001b[0m\u001b[0;34m]\u001b[0m\u001b[0;34m,\u001b[0m \u001b[0mcolumns\u001b[0m\u001b[0;34m=\u001b[0m\u001b[0;34m[\u001b[0m\u001b[0;34m\"decision\"\u001b[0m\u001b[0;34m]\u001b[0m\u001b[0;34m,\u001b[0m \u001b[0maggfunc\u001b[0m\u001b[0;34m=\u001b[0m\u001b[0mcount\u001b[0m\u001b[0;34m)\u001b[0m\u001b[0;34m\u001b[0m\u001b[0;34m\u001b[0m\u001b[0m\n\u001b[0m",
      "\u001b[0;31mNameError\u001b[0m: name 'count' is not defined"
     ]
    }
   ],
   "source": [
    "pd.pivot_table(visa, index=[\"citizenship\"], columns=[\"decision\"], aggfunc=count)"
   ]
  },
  {
   "cell_type": "code",
   "execution_count": 46,
   "metadata": {},
   "outputs": [
    {
     "data": {
      "text/html": [
       "<div>\n",
       "<style scoped>\n",
       "    .dataframe tbody tr th:only-of-type {\n",
       "        vertical-align: middle;\n",
       "    }\n",
       "\n",
       "    .dataframe tbody tr th {\n",
       "        vertical-align: top;\n",
       "    }\n",
       "\n",
       "    .dataframe thead th {\n",
       "        text-align: right;\n",
       "    }\n",
       "</style>\n",
       "<table border=\"1\" class=\"dataframe\">\n",
       "  <thead>\n",
       "    <tr style=\"text-align: right;\">\n",
       "      <th>decision</th>\n",
       "      <th>N</th>\n",
       "      <th>Y</th>\n",
       "    </tr>\n",
       "    <tr>\n",
       "      <th>citizenship</th>\n",
       "      <th></th>\n",
       "      <th></th>\n",
       "    </tr>\n",
       "  </thead>\n",
       "  <tbody>\n",
       "    <tr>\n",
       "      <td>AFGHANISTAN</td>\n",
       "      <td>1.0</td>\n",
       "      <td>3.0</td>\n",
       "    </tr>\n",
       "    <tr>\n",
       "      <td>ALBANIA</td>\n",
       "      <td>2.0</td>\n",
       "      <td>10.0</td>\n",
       "    </tr>\n",
       "    <tr>\n",
       "      <td>ALGERIA</td>\n",
       "      <td>2.0</td>\n",
       "      <td>1.0</td>\n",
       "    </tr>\n",
       "    <tr>\n",
       "      <td>ARGENTINA</td>\n",
       "      <td>22.0</td>\n",
       "      <td>67.0</td>\n",
       "    </tr>\n",
       "    <tr>\n",
       "      <td>ARMENIA</td>\n",
       "      <td>0.0</td>\n",
       "      <td>9.0</td>\n",
       "    </tr>\n",
       "  </tbody>\n",
       "</table>\n",
       "</div>"
      ],
      "text/plain": [
       "decision        N     Y\n",
       "citizenship            \n",
       "AFGHANISTAN   1.0   3.0\n",
       "ALBANIA       2.0  10.0\n",
       "ALGERIA       2.0   1.0\n",
       "ARGENTINA    22.0  67.0\n",
       "ARMENIA       0.0   9.0"
      ]
     },
     "execution_count": 46,
     "metadata": {},
     "output_type": "execute_result"
    }
   ],
   "source": [
    "visa_decision = (pd.pivot_table(\n",
    "    (visa.groupby(\"citizenship\")[\"decision\"]\n",
    "    .value_counts()\n",
    "    .to_frame()\n",
    "    .rename(columns={\"decision\":\"count\"})), \n",
    "    index=[\"citizenship\"], \n",
    "    columns=[\"decision\"],\n",
    "    values=\"count\")\n",
    " .fillna(0)\n",
    ")\n",
    "visa_decision.head()"
   ]
  },
  {
   "cell_type": "code",
   "execution_count": 47,
   "metadata": {},
   "outputs": [
    {
     "data": {
      "text/html": [
       "<div>\n",
       "<style scoped>\n",
       "    .dataframe tbody tr th:only-of-type {\n",
       "        vertical-align: middle;\n",
       "    }\n",
       "\n",
       "    .dataframe tbody tr th {\n",
       "        vertical-align: top;\n",
       "    }\n",
       "\n",
       "    .dataframe thead th {\n",
       "        text-align: right;\n",
       "    }\n",
       "</style>\n",
       "<table border=\"1\" class=\"dataframe\">\n",
       "  <thead>\n",
       "    <tr style=\"text-align: right;\">\n",
       "      <th>decision</th>\n",
       "      <th>N</th>\n",
       "      <th>Y</th>\n",
       "      <th>percent</th>\n",
       "    </tr>\n",
       "    <tr>\n",
       "      <th>citizenship</th>\n",
       "      <th></th>\n",
       "      <th></th>\n",
       "      <th></th>\n",
       "    </tr>\n",
       "  </thead>\n",
       "  <tbody>\n",
       "    <tr>\n",
       "      <td>AFGHANISTAN</td>\n",
       "      <td>1.0</td>\n",
       "      <td>3.0</td>\n",
       "      <td>0.750000</td>\n",
       "    </tr>\n",
       "    <tr>\n",
       "      <td>ALBANIA</td>\n",
       "      <td>2.0</td>\n",
       "      <td>10.0</td>\n",
       "      <td>0.833333</td>\n",
       "    </tr>\n",
       "    <tr>\n",
       "      <td>ALGERIA</td>\n",
       "      <td>2.0</td>\n",
       "      <td>1.0</td>\n",
       "      <td>0.333333</td>\n",
       "    </tr>\n",
       "    <tr>\n",
       "      <td>ARGENTINA</td>\n",
       "      <td>22.0</td>\n",
       "      <td>67.0</td>\n",
       "      <td>0.752809</td>\n",
       "    </tr>\n",
       "    <tr>\n",
       "      <td>ARMENIA</td>\n",
       "      <td>0.0</td>\n",
       "      <td>9.0</td>\n",
       "      <td>1.000000</td>\n",
       "    </tr>\n",
       "    <tr>\n",
       "      <td>...</td>\n",
       "      <td>...</td>\n",
       "      <td>...</td>\n",
       "      <td>...</td>\n",
       "    </tr>\n",
       "    <tr>\n",
       "      <td>VIETNAM</td>\n",
       "      <td>9.0</td>\n",
       "      <td>55.0</td>\n",
       "      <td>0.859375</td>\n",
       "    </tr>\n",
       "    <tr>\n",
       "      <td>YEMEN</td>\n",
       "      <td>0.0</td>\n",
       "      <td>3.0</td>\n",
       "      <td>1.000000</td>\n",
       "    </tr>\n",
       "    <tr>\n",
       "      <td>YUGOSLAVIA</td>\n",
       "      <td>1.0</td>\n",
       "      <td>2.0</td>\n",
       "      <td>0.666667</td>\n",
       "    </tr>\n",
       "    <tr>\n",
       "      <td>ZAMBIA</td>\n",
       "      <td>1.0</td>\n",
       "      <td>3.0</td>\n",
       "      <td>0.750000</td>\n",
       "    </tr>\n",
       "    <tr>\n",
       "      <td>ZIMBABWE</td>\n",
       "      <td>1.0</td>\n",
       "      <td>16.0</td>\n",
       "      <td>0.941176</td>\n",
       "    </tr>\n",
       "  </tbody>\n",
       "</table>\n",
       "<p>161 rows × 3 columns</p>\n",
       "</div>"
      ],
      "text/plain": [
       "decision        N     Y   percent\n",
       "citizenship                      \n",
       "AFGHANISTAN   1.0   3.0  0.750000\n",
       "ALBANIA       2.0  10.0  0.833333\n",
       "ALGERIA       2.0   1.0  0.333333\n",
       "ARGENTINA    22.0  67.0  0.752809\n",
       "ARMENIA       0.0   9.0  1.000000\n",
       "...           ...   ...       ...\n",
       "VIETNAM       9.0  55.0  0.859375\n",
       "YEMEN         0.0   3.0  1.000000\n",
       "YUGOSLAVIA    1.0   2.0  0.666667\n",
       "ZAMBIA        1.0   3.0  0.750000\n",
       "ZIMBABWE      1.0  16.0  0.941176\n",
       "\n",
       "[161 rows x 3 columns]"
      ]
     },
     "execution_count": 47,
     "metadata": {},
     "output_type": "execute_result"
    }
   ],
   "source": [
    "visa_decision[\"percent\"] = visa_decision[\"Y\"] / (visa_decision[\"N\"] + visa_decision[\"Y\"])\n",
    "visa_decision.to_csv(\"\")\n",
    "visa_decision"
   ]
  },
  {
   "cell_type": "code",
   "execution_count": null,
   "metadata": {},
   "outputs": [],
   "source": []
  }
 ],
 "metadata": {
  "kernelspec": {
   "display_name": "Python 3",
   "language": "python",
   "name": "python3"
  },
  "language_info": {
   "codemirror_mode": {
    "name": "ipython",
    "version": 3
   },
   "file_extension": ".py",
   "mimetype": "text/x-python",
   "name": "python",
   "nbconvert_exporter": "python",
   "pygments_lexer": "ipython3",
   "version": "3.7.4"
  }
 },
 "nbformat": 4,
 "nbformat_minor": 2
}
