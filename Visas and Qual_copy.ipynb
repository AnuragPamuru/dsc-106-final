{
 "cells": [
  {
   "cell_type": "code",
   "execution_count": 1,
   "metadata": {},
   "outputs": [],
   "source": [
    "import pandas as pd\n",
    "import numpy as np"
   ]
  },
  {
   "cell_type": "code",
   "execution_count": 2,
   "metadata": {},
   "outputs": [
    {
     "data": {
      "text/plain": [
       "citizenship  decision\n",
       "AFGHANISTAN  Y            3\n",
       "             N            1\n",
       "ALBANIA      Y           10\n",
       "             N            2\n",
       "ALGERIA      N            2\n",
       "                         ..\n",
       "YUGOSLAVIA   N            1\n",
       "ZAMBIA       Y            3\n",
       "             N            1\n",
       "ZIMBABWE     Y           16\n",
       "             N            1\n",
       "Name: decision, Length: 277, dtype: int64"
      ]
     },
     "execution_count": 2,
     "metadata": {},
     "output_type": "execute_result"
    }
   ],
   "source": [
    "visa = pd.read_csv(\"data/visa.csv\", index_col = 0)\n",
    "\n",
    "visa.groupby(\"citizenship\")[\"decision\"].value_counts()"
   ]
  },
  {
   "cell_type": "code",
   "execution_count": 184,
   "metadata": {},
   "outputs": [
    {
     "data": {
      "text/plain": [
       "Index(['INDIA', 'CHINA', 'CANADA', 'SOUTH KOREA', 'PHILIPPINES', 'MEXICO',\n",
       "       'UNITED KINGDOM', 'TAIWAN', 'PAKISTAN'],\n",
       "      dtype='object')"
      ]
     },
     "execution_count": 184,
     "metadata": {},
     "output_type": "execute_result"
    }
   ],
   "source": [
    "(visa[\"citizenship\"].value_counts() / len(visa)).head(9).index"
   ]
  },
  {
   "cell_type": "code",
   "execution_count": 185,
   "metadata": {},
   "outputs": [],
   "source": [
    "visa.loc[~visa[\"citizenship\"].isin(['INDIA', 'CHINA', 'CANADA', 'SOUTH KOREA', 'PHILIPPINES', 'MEXICO',\n",
    "       'UNITED KINGDOM', 'TAIWAN', 'PAKISTAN']),\"citizenship\"] = \"Other\""
   ]
  },
  {
   "cell_type": "code",
   "execution_count": 193,
   "metadata": {},
   "outputs": [
    {
     "data": {
      "text/plain": [
       "38591"
      ]
     },
     "execution_count": 193,
     "metadata": {},
     "output_type": "execute_result"
    }
   ],
   "source": [
    "len(visa)"
   ]
  },
  {
   "cell_type": "code",
   "execution_count": 192,
   "metadata": {},
   "outputs": [
    {
     "data": {
      "text/plain": [
       "'[23216,6669,2127,1633,1606,1056,834,536,473,441]'"
      ]
     },
     "execution_count": 192,
     "metadata": {},
     "output_type": "execute_result"
    }
   ],
   "source": [
    "countries = (visa[\"citizenship\"].value_counts())\n",
    "countries.to_json(orient=\"records\")"
   ]
  },
  {
   "cell_type": "code",
   "execution_count": 191,
   "metadata": {},
   "outputs": [
    {
     "data": {
      "text/plain": [
       "Index(['INDIA', 'Other', 'CHINA', 'CANADA', 'SOUTH KOREA', 'PHILIPPINES',\n",
       "       'MEXICO', 'UNITED KINGDOM', 'TAIWAN', 'PAKISTAN'],\n",
       "      dtype='object')"
      ]
     },
     "execution_count": 191,
     "metadata": {},
     "output_type": "execute_result"
    }
   ],
   "source": [
    "countries.index"
   ]
  },
  {
   "cell_type": "code",
   "execution_count": 182,
   "metadata": {},
   "outputs": [
    {
     "data": {
      "text/plain": [
       "38591"
      ]
     },
     "execution_count": 182,
     "metadata": {},
     "output_type": "execute_result"
    }
   ],
   "source": [
    "len(visa)"
   ]
  },
  {
   "cell_type": "code",
   "execution_count": 3,
   "metadata": {},
   "outputs": [
    {
     "data": {
      "text/html": [
       "<div>\n",
       "<style scoped>\n",
       "    .dataframe tbody tr th:only-of-type {\n",
       "        vertical-align: middle;\n",
       "    }\n",
       "\n",
       "    .dataframe tbody tr th {\n",
       "        vertical-align: top;\n",
       "    }\n",
       "\n",
       "    .dataframe thead th {\n",
       "        text-align: right;\n",
       "    }\n",
       "</style>\n",
       "<table border=\"1\" class=\"dataframe\">\n",
       "  <thead>\n",
       "    <tr style=\"text-align: right;\">\n",
       "      <th></th>\n",
       "      <th>category</th>\n",
       "      <th>citizenship</th>\n",
       "      <th>application type</th>\n",
       "      <th>visa class</th>\n",
       "      <th>decision</th>\n",
       "    </tr>\n",
       "  </thead>\n",
       "  <tbody>\n",
       "    <tr>\n",
       "      <td>0</td>\n",
       "      <td>Automotive</td>\n",
       "      <td>ECUADOR</td>\n",
       "      <td>MAILEDIN</td>\n",
       "      <td>EWI</td>\n",
       "      <td>Y</td>\n",
       "    </tr>\n",
       "    <tr>\n",
       "      <td>1</td>\n",
       "      <td>Advanced Mfg</td>\n",
       "      <td>INDIA</td>\n",
       "      <td>ONLINE</td>\n",
       "      <td>H-1B</td>\n",
       "      <td>Y</td>\n",
       "    </tr>\n",
       "    <tr>\n",
       "      <td>2</td>\n",
       "      <td>Advanced Mfg</td>\n",
       "      <td>PHILIPPINES</td>\n",
       "      <td>ONLINE</td>\n",
       "      <td>L-1</td>\n",
       "      <td>Y</td>\n",
       "    </tr>\n",
       "    <tr>\n",
       "      <td>3</td>\n",
       "      <td>Advanced Mfg</td>\n",
       "      <td>INDIA</td>\n",
       "      <td>ONLINE</td>\n",
       "      <td>H-1B</td>\n",
       "      <td>Y</td>\n",
       "    </tr>\n",
       "    <tr>\n",
       "      <td>4</td>\n",
       "      <td>Advanced Mfg</td>\n",
       "      <td>INDIA</td>\n",
       "      <td>ONLINE</td>\n",
       "      <td>H-1B</td>\n",
       "      <td>Y</td>\n",
       "    </tr>\n",
       "  </tbody>\n",
       "</table>\n",
       "</div>"
      ],
      "text/plain": [
       "       category  citizenship application type visa class decision\n",
       "0    Automotive      ECUADOR         MAILEDIN        EWI        Y\n",
       "1  Advanced Mfg        INDIA           ONLINE       H-1B        Y\n",
       "2  Advanced Mfg  PHILIPPINES           ONLINE        L-1        Y\n",
       "3  Advanced Mfg        INDIA           ONLINE       H-1B        Y\n",
       "4  Advanced Mfg        INDIA           ONLINE       H-1B        Y"
      ]
     },
     "execution_count": 3,
     "metadata": {},
     "output_type": "execute_result"
    }
   ],
   "source": [
    "visa.head()"
   ]
  },
  {
   "cell_type": "code",
   "execution_count": 4,
   "metadata": {},
   "outputs": [
    {
     "data": {
      "text/plain": [
       "array(['EWI', 'H-1B', 'L-1', 'E-2', 'TPS', 'B-2', 'B-1', 'F-1', 'H-2B',\n",
       "       'VWT', 'Parolee', 'TN', 'Not in USA', 'H-4', 'F-2', 'E-3', 'O-1',\n",
       "       'H-2A', 'H-1B1', 'E-1', 'G-5', 'A-3', 'A1/A2', 'H-3', 'P-1', 'C-1',\n",
       "       'L-2', 'VWB', 'J-1', 'O-3', 'O-2', 'J-2', 'G-4', 'H-1A', 'R-1',\n",
       "       'I', 'H1B', 'N', 'T-1', 'TD', 'Parol', 'AOS/H-1B', 'M-1', 'P-3',\n",
       "       'K-1'], dtype=object)"
      ]
     },
     "execution_count": 4,
     "metadata": {},
     "output_type": "execute_result"
    }
   ],
   "source": [
    "visa[\"visa class\"].unique()"
   ]
  },
  {
   "cell_type": "markdown",
   "metadata": {},
   "source": [
    "- H-1B: work visa for professionals working in US\n",
    "- L-1: work visa for foreiners opening business in US\n",
    "- F-1: student visa\n",
    "- Parolee: a permit for non-US national who does not have valid immigrant visa, but need to reenter"
   ]
  },
  {
   "cell_type": "code",
   "execution_count": 70,
   "metadata": {},
   "outputs": [
    {
     "data": {
      "text/plain": [
       "'{\"H-1B\":0.85157161,\"L-1\":0.0362001503,\"F-1\":0.0284781426,\"Parolee\":0.0195382343}'"
      ]
     },
     "execution_count": 70,
     "metadata": {},
     "output_type": "execute_result"
    }
   ],
   "source": [
    "((visa[\"visa class\"].value_counts() / len(visa)).head(4)).to_json()"
   ]
  },
  {
   "cell_type": "code",
   "execution_count": 77,
   "metadata": {},
   "outputs": [
    {
     "data": {
      "text/plain": [
       "'[{\"name\":\"H-1B\",\"y\":0.85157161},{\"name\":\"L-1\",\"y\":0.0362001503},{\"name\":\"F-1\",\"y\":0.0284781426},{\"name\":\"Parolee\",\"y\":0.0195382343}]'"
      ]
     },
     "execution_count": 77,
     "metadata": {},
     "output_type": "execute_result"
    }
   ],
   "source": [
    "(((visa[\"visa class\"].value_counts() / len(visa)).head(4))\n",
    " .reset_index()\n",
    " .rename(columns={\"index\":\"name\",\"visa class\":\"y\"})\n",
    ").to_json(orient=\"records\")"
   ]
  },
  {
   "cell_type": "code",
   "execution_count": 80,
   "metadata": {},
   "outputs": [
    {
     "data": {
      "text/plain": [
       "0.06421186286958092"
      ]
     },
     "execution_count": 80,
     "metadata": {},
     "output_type": "execute_result"
    }
   ],
   "source": [
    "1 - sum((visa[\"visa class\"].value_counts() / len(visa)).head(4))"
   ]
  },
  {
   "cell_type": "code",
   "execution_count": 88,
   "metadata": {},
   "outputs": [
    {
     "data": {
      "text/plain": [
       "Index(['H-1B', 'L-1', 'F-1', 'Parolee'], dtype='object')"
      ]
     },
     "execution_count": 88,
     "metadata": {},
     "output_type": "execute_result"
    }
   ],
   "source": [
    "(visa[\"visa class\"].value_counts() / len(visa)).head(4).index"
   ]
  },
  {
   "cell_type": "code",
   "execution_count": 102,
   "metadata": {},
   "outputs": [
    {
     "data": {
      "text/html": [
       "<div>\n",
       "<style scoped>\n",
       "    .dataframe tbody tr th:only-of-type {\n",
       "        vertical-align: middle;\n",
       "    }\n",
       "\n",
       "    .dataframe tbody tr th {\n",
       "        vertical-align: top;\n",
       "    }\n",
       "\n",
       "    .dataframe thead th {\n",
       "        text-align: right;\n",
       "    }\n",
       "</style>\n",
       "<table border=\"1\" class=\"dataframe\">\n",
       "  <thead>\n",
       "    <tr style=\"text-align: right;\">\n",
       "      <th></th>\n",
       "      <th>category</th>\n",
       "      <th>citizenship</th>\n",
       "      <th>application type</th>\n",
       "      <th>visa class</th>\n",
       "      <th>decision</th>\n",
       "    </tr>\n",
       "  </thead>\n",
       "  <tbody>\n",
       "    <tr>\n",
       "      <td>1</td>\n",
       "      <td>Advanced Mfg</td>\n",
       "      <td>INDIA</td>\n",
       "      <td>ONLINE</td>\n",
       "      <td>H-1B</td>\n",
       "      <td>Y</td>\n",
       "    </tr>\n",
       "    <tr>\n",
       "      <td>2</td>\n",
       "      <td>Advanced Mfg</td>\n",
       "      <td>PHILIPPINES</td>\n",
       "      <td>ONLINE</td>\n",
       "      <td>L-1</td>\n",
       "      <td>Y</td>\n",
       "    </tr>\n",
       "    <tr>\n",
       "      <td>3</td>\n",
       "      <td>Advanced Mfg</td>\n",
       "      <td>INDIA</td>\n",
       "      <td>ONLINE</td>\n",
       "      <td>H-1B</td>\n",
       "      <td>Y</td>\n",
       "    </tr>\n",
       "    <tr>\n",
       "      <td>4</td>\n",
       "      <td>Advanced Mfg</td>\n",
       "      <td>INDIA</td>\n",
       "      <td>ONLINE</td>\n",
       "      <td>H-1B</td>\n",
       "      <td>Y</td>\n",
       "    </tr>\n",
       "    <tr>\n",
       "      <td>5</td>\n",
       "      <td>Advanced Mfg</td>\n",
       "      <td>INDIA</td>\n",
       "      <td>ONLINE</td>\n",
       "      <td>H-1B</td>\n",
       "      <td>Y</td>\n",
       "    </tr>\n",
       "  </tbody>\n",
       "</table>\n",
       "</div>"
      ],
      "text/plain": [
       "       category  citizenship application type visa class decision\n",
       "1  Advanced Mfg        INDIA           ONLINE       H-1B        Y\n",
       "2  Advanced Mfg  PHILIPPINES           ONLINE        L-1        Y\n",
       "3  Advanced Mfg        INDIA           ONLINE       H-1B        Y\n",
       "4  Advanced Mfg        INDIA           ONLINE       H-1B        Y\n",
       "5  Advanced Mfg        INDIA           ONLINE       H-1B        Y"
      ]
     },
     "execution_count": 102,
     "metadata": {},
     "output_type": "execute_result"
    }
   ],
   "source": [
    "visa[visa[\"visa class\"].isin(['H-1B', 'L-1', 'F-1', 'Parolee'])].head()"
   ]
  },
  {
   "cell_type": "code",
   "execution_count": 106,
   "metadata": {},
   "outputs": [],
   "source": [
    "visa.loc[~visa[\"visa class\"].isin(['H-1B', 'L-1', 'F-1', 'Parolee']),\"visa class\"] = \"Other\""
   ]
  },
  {
   "cell_type": "code",
   "execution_count": 107,
   "metadata": {},
   "outputs": [
    {
     "data": {
      "text/plain": [
       "H-1B       0.851572\n",
       "Other      0.064212\n",
       "L-1        0.036200\n",
       "F-1        0.028478\n",
       "Parolee    0.019538\n",
       "Name: visa class, dtype: float64"
      ]
     },
     "execution_count": 107,
     "metadata": {},
     "output_type": "execute_result"
    }
   ],
   "source": [
    "visa[\"visa class\"].value_counts() / len(visa)"
   ]
  },
  {
   "cell_type": "code",
   "execution_count": 134,
   "metadata": {},
   "outputs": [
    {
     "data": {
      "text/html": [
       "<div>\n",
       "<style scoped>\n",
       "    .dataframe tbody tr th:only-of-type {\n",
       "        vertical-align: middle;\n",
       "    }\n",
       "\n",
       "    .dataframe tbody tr th {\n",
       "        vertical-align: top;\n",
       "    }\n",
       "\n",
       "    .dataframe thead th {\n",
       "        text-align: right;\n",
       "    }\n",
       "</style>\n",
       "<table border=\"1\" class=\"dataframe\">\n",
       "  <thead>\n",
       "    <tr style=\"text-align: right;\">\n",
       "      <th></th>\n",
       "      <th></th>\n",
       "      <th></th>\n",
       "      <th>decision</th>\n",
       "    </tr>\n",
       "    <tr>\n",
       "      <th>category</th>\n",
       "      <th>visa class</th>\n",
       "      <th>decision</th>\n",
       "      <th></th>\n",
       "    </tr>\n",
       "  </thead>\n",
       "  <tbody>\n",
       "    <tr>\n",
       "      <td rowspan=\"5\" valign=\"top\">Advanced Mfg</td>\n",
       "      <td rowspan=\"2\" valign=\"top\">F-1</td>\n",
       "      <td>Y</td>\n",
       "      <td>75</td>\n",
       "    </tr>\n",
       "    <tr>\n",
       "      <td>N</td>\n",
       "      <td>23</td>\n",
       "    </tr>\n",
       "    <tr>\n",
       "      <td rowspan=\"2\" valign=\"top\">H-1B</td>\n",
       "      <td>Y</td>\n",
       "      <td>4385</td>\n",
       "    </tr>\n",
       "    <tr>\n",
       "      <td>N</td>\n",
       "      <td>711</td>\n",
       "    </tr>\n",
       "    <tr>\n",
       "      <td>L-1</td>\n",
       "      <td>Y</td>\n",
       "      <td>274</td>\n",
       "    </tr>\n",
       "    <tr>\n",
       "      <td>...</td>\n",
       "      <td>...</td>\n",
       "      <td>...</td>\n",
       "      <td>...</td>\n",
       "    </tr>\n",
       "    <tr>\n",
       "      <td rowspan=\"5\" valign=\"top\">Retail</td>\n",
       "      <td>L-1</td>\n",
       "      <td>N</td>\n",
       "      <td>2</td>\n",
       "    </tr>\n",
       "    <tr>\n",
       "      <td rowspan=\"2\" valign=\"top\">Other</td>\n",
       "      <td>Y</td>\n",
       "      <td>86</td>\n",
       "    </tr>\n",
       "    <tr>\n",
       "      <td>N</td>\n",
       "      <td>46</td>\n",
       "    </tr>\n",
       "    <tr>\n",
       "      <td rowspan=\"2\" valign=\"top\">Parolee</td>\n",
       "      <td>Y</td>\n",
       "      <td>32</td>\n",
       "    </tr>\n",
       "    <tr>\n",
       "      <td>N</td>\n",
       "      <td>2</td>\n",
       "    </tr>\n",
       "  </tbody>\n",
       "</table>\n",
       "<p>87 rows × 1 columns</p>\n",
       "</div>"
      ],
      "text/plain": [
       "                                  decision\n",
       "category     visa class decision          \n",
       "Advanced Mfg F-1        Y               75\n",
       "                        N               23\n",
       "             H-1B       Y             4385\n",
       "                        N              711\n",
       "             L-1        Y              274\n",
       "...                                    ...\n",
       "Retail       L-1        N                2\n",
       "             Other      Y               86\n",
       "                        N               46\n",
       "             Parolee    Y               32\n",
       "                        N                2\n",
       "\n",
       "[87 rows x 1 columns]"
      ]
     },
     "execution_count": 134,
     "metadata": {},
     "output_type": "execute_result"
    }
   ],
   "source": [
    "visa.groupby([\"category\", \"visa class\"])[\"decision\"].value_counts().to_frame()"
   ]
  },
  {
   "cell_type": "code",
   "execution_count": 137,
   "metadata": {},
   "outputs": [
    {
     "data": {
      "text/html": [
       "<div>\n",
       "<style scoped>\n",
       "    .dataframe tbody tr th:only-of-type {\n",
       "        vertical-align: middle;\n",
       "    }\n",
       "\n",
       "    .dataframe tbody tr th {\n",
       "        vertical-align: top;\n",
       "    }\n",
       "\n",
       "    .dataframe thead th {\n",
       "        text-align: right;\n",
       "    }\n",
       "</style>\n",
       "<table border=\"1\" class=\"dataframe\">\n",
       "  <thead>\n",
       "    <tr style=\"text-align: right;\">\n",
       "      <th></th>\n",
       "      <th></th>\n",
       "      <th></th>\n",
       "      <th>count</th>\n",
       "    </tr>\n",
       "    <tr>\n",
       "      <th>category</th>\n",
       "      <th>visa class</th>\n",
       "      <th>decision</th>\n",
       "      <th></th>\n",
       "    </tr>\n",
       "  </thead>\n",
       "  <tbody>\n",
       "    <tr>\n",
       "      <td rowspan=\"5\" valign=\"top\">Advanced Mfg</td>\n",
       "      <td rowspan=\"2\" valign=\"top\">F-1</td>\n",
       "      <td>Y</td>\n",
       "      <td>75</td>\n",
       "    </tr>\n",
       "    <tr>\n",
       "      <td>N</td>\n",
       "      <td>23</td>\n",
       "    </tr>\n",
       "    <tr>\n",
       "      <td rowspan=\"2\" valign=\"top\">H-1B</td>\n",
       "      <td>Y</td>\n",
       "      <td>4385</td>\n",
       "    </tr>\n",
       "    <tr>\n",
       "      <td>N</td>\n",
       "      <td>711</td>\n",
       "    </tr>\n",
       "    <tr>\n",
       "      <td>L-1</td>\n",
       "      <td>Y</td>\n",
       "      <td>274</td>\n",
       "    </tr>\n",
       "    <tr>\n",
       "      <td>...</td>\n",
       "      <td>...</td>\n",
       "      <td>...</td>\n",
       "      <td>...</td>\n",
       "    </tr>\n",
       "    <tr>\n",
       "      <td rowspan=\"5\" valign=\"top\">Retail</td>\n",
       "      <td>L-1</td>\n",
       "      <td>N</td>\n",
       "      <td>2</td>\n",
       "    </tr>\n",
       "    <tr>\n",
       "      <td rowspan=\"2\" valign=\"top\">Other</td>\n",
       "      <td>Y</td>\n",
       "      <td>86</td>\n",
       "    </tr>\n",
       "    <tr>\n",
       "      <td>N</td>\n",
       "      <td>46</td>\n",
       "    </tr>\n",
       "    <tr>\n",
       "      <td rowspan=\"2\" valign=\"top\">Parolee</td>\n",
       "      <td>Y</td>\n",
       "      <td>32</td>\n",
       "    </tr>\n",
       "    <tr>\n",
       "      <td>N</td>\n",
       "      <td>2</td>\n",
       "    </tr>\n",
       "  </tbody>\n",
       "</table>\n",
       "<p>87 rows × 1 columns</p>\n",
       "</div>"
      ],
      "text/plain": [
       "                                  count\n",
       "category     visa class decision       \n",
       "Advanced Mfg F-1        Y            75\n",
       "                        N            23\n",
       "             H-1B       Y          4385\n",
       "                        N           711\n",
       "             L-1        Y           274\n",
       "...                                 ...\n",
       "Retail       L-1        N             2\n",
       "             Other      Y            86\n",
       "                        N            46\n",
       "             Parolee    Y            32\n",
       "                        N             2\n",
       "\n",
       "[87 rows x 1 columns]"
      ]
     },
     "execution_count": 137,
     "metadata": {},
     "output_type": "execute_result"
    }
   ],
   "source": [
    "(visa.groupby([\"category\", \"visa class\"])[\"decision\"]\n",
    "    .value_counts()\n",
    "    .to_frame()\n",
    "    .rename(columns={\"decision\":\"count\"}))"
   ]
  },
  {
   "cell_type": "code",
   "execution_count": 180,
   "metadata": {},
   "outputs": [
    {
     "data": {
      "text/plain": [
       "Index(['Advanced Mfg', 'Educational Services', 'Finance', 'Health Care', 'IT',\n",
       "       'Other', 'Other Economic Sector'],\n",
       "      dtype='object', name='category')"
      ]
     },
     "execution_count": 180,
     "metadata": {},
     "output_type": "execute_result"
    }
   ],
   "source": [
    "visa_class = (pd.pivot_table(\n",
    "    (visa.groupby([\"category\", \"visa class\"])[\"decision\"]\n",
    "    .value_counts()\n",
    "    .to_frame()\n",
    "    .rename(columns={\"decision\":\"count\"})), \n",
    "    index=[\"visa class\",\"category\"], \n",
    "    columns=[\"decision\"],\n",
    "    values=\"count\")\n",
    " .fillna(0)\n",
    ").rename(columns={\"N\":\"n\", \"Y\":\"y\"})\n",
    "visa_class[\"percent\"] = visa_class[\"y\"] / (visa_class[\"n\"] + visa_class[\"y\"])\n",
    "visa_class[\"percent\"][\"F-1\"].index\n",
    "# (visa_class[\"percent\"] * 100).to_json(orient=\"records\")"
   ]
  },
  {
   "cell_type": "code",
   "execution_count": 175,
   "metadata": {},
   "outputs": [
    {
     "data": {
      "text/plain": [
       "array([0.76530612, 0.80701754, 0.66666667, 0.76470588, 0.75581395,\n",
       "       0.70253165, 0.6372549 , 0.86047881, 0.83310962, 0.89555284,\n",
       "       0.86620531, 0.82879538, 0.88547318, 0.85566714, 0.86984127,\n",
       "       1.        , 0.87931034, 1.        , 0.85294118, 0.92086331,\n",
       "       0.82      , 0.74647887, 0.80314961, 0.825     , 0.59473684,\n",
       "       0.76619718, 0.60966981, 0.64478114, 0.83870968, 1.        ,\n",
       "       0.86956522, 0.81818182, 0.83555556, 0.89473684, 0.86075949])"
      ]
     },
     "execution_count": 175,
     "metadata": {},
     "output_type": "execute_result"
    }
   ],
   "source": [
    "visa_class[\"percent\"].values"
   ]
  },
  {
   "cell_type": "code",
   "execution_count": 7,
   "metadata": {},
   "outputs": [
    {
     "data": {
      "text/html": [
       "<div>\n",
       "<style scoped>\n",
       "    .dataframe tbody tr th:only-of-type {\n",
       "        vertical-align: middle;\n",
       "    }\n",
       "\n",
       "    .dataframe tbody tr th {\n",
       "        vertical-align: top;\n",
       "    }\n",
       "\n",
       "    .dataframe thead th {\n",
       "        text-align: right;\n",
       "    }\n",
       "</style>\n",
       "<table border=\"1\" class=\"dataframe\">\n",
       "  <thead>\n",
       "    <tr style=\"text-align: right;\">\n",
       "      <th></th>\n",
       "      <th>category</th>\n",
       "      <th>citizenship</th>\n",
       "      <th>application type</th>\n",
       "      <th>visa class</th>\n",
       "      <th>decision</th>\n",
       "    </tr>\n",
       "  </thead>\n",
       "  <tbody>\n",
       "    <tr>\n",
       "      <td>0</td>\n",
       "      <td>Automotive</td>\n",
       "      <td>ECUADOR</td>\n",
       "      <td>MAILEDIN</td>\n",
       "      <td>EWI</td>\n",
       "      <td>Y</td>\n",
       "    </tr>\n",
       "    <tr>\n",
       "      <td>1</td>\n",
       "      <td>Advanced Mfg</td>\n",
       "      <td>INDIA</td>\n",
       "      <td>ONLINE</td>\n",
       "      <td>H-1B</td>\n",
       "      <td>Y</td>\n",
       "    </tr>\n",
       "    <tr>\n",
       "      <td>2</td>\n",
       "      <td>Advanced Mfg</td>\n",
       "      <td>PHILIPPINES</td>\n",
       "      <td>ONLINE</td>\n",
       "      <td>L-1</td>\n",
       "      <td>Y</td>\n",
       "    </tr>\n",
       "    <tr>\n",
       "      <td>3</td>\n",
       "      <td>Advanced Mfg</td>\n",
       "      <td>INDIA</td>\n",
       "      <td>ONLINE</td>\n",
       "      <td>H-1B</td>\n",
       "      <td>Y</td>\n",
       "    </tr>\n",
       "    <tr>\n",
       "      <td>4</td>\n",
       "      <td>Advanced Mfg</td>\n",
       "      <td>INDIA</td>\n",
       "      <td>ONLINE</td>\n",
       "      <td>H-1B</td>\n",
       "      <td>Y</td>\n",
       "    </tr>\n",
       "  </tbody>\n",
       "</table>\n",
       "</div>"
      ],
      "text/plain": [
       "       category  citizenship application type visa class decision\n",
       "0    Automotive      ECUADOR         MAILEDIN        EWI        Y\n",
       "1  Advanced Mfg        INDIA           ONLINE       H-1B        Y\n",
       "2  Advanced Mfg  PHILIPPINES           ONLINE        L-1        Y\n",
       "3  Advanced Mfg        INDIA           ONLINE       H-1B        Y\n",
       "4  Advanced Mfg        INDIA           ONLINE       H-1B        Y"
      ]
     },
     "execution_count": 7,
     "metadata": {},
     "output_type": "execute_result"
    }
   ],
   "source": [
    "visa.columns = visa.columns.str.lower()\n",
    "visa.to_csv(\"./data/visa.csv\")\n",
    "visa.head()"
   ]
  },
  {
   "cell_type": "code",
   "execution_count": 83,
   "metadata": {},
   "outputs": [
    {
     "data": {
      "text/html": [
       "<div>\n",
       "<style scoped>\n",
       "    .dataframe tbody tr th:only-of-type {\n",
       "        vertical-align: middle;\n",
       "    }\n",
       "\n",
       "    .dataframe tbody tr th {\n",
       "        vertical-align: top;\n",
       "    }\n",
       "\n",
       "    .dataframe thead th {\n",
       "        text-align: right;\n",
       "    }\n",
       "</style>\n",
       "<table border=\"1\" class=\"dataframe\">\n",
       "  <thead>\n",
       "    <tr style=\"text-align: right;\">\n",
       "      <th>decision</th>\n",
       "      <th>n</th>\n",
       "      <th>y</th>\n",
       "    </tr>\n",
       "    <tr>\n",
       "      <th>citizenship</th>\n",
       "      <th></th>\n",
       "      <th></th>\n",
       "    </tr>\n",
       "  </thead>\n",
       "  <tbody>\n",
       "    <tr>\n",
       "      <td>AFGHANISTAN</td>\n",
       "      <td>1.0</td>\n",
       "      <td>3.0</td>\n",
       "    </tr>\n",
       "    <tr>\n",
       "      <td>ALBANIA</td>\n",
       "      <td>2.0</td>\n",
       "      <td>10.0</td>\n",
       "    </tr>\n",
       "    <tr>\n",
       "      <td>ALGERIA</td>\n",
       "      <td>2.0</td>\n",
       "      <td>1.0</td>\n",
       "    </tr>\n",
       "    <tr>\n",
       "      <td>ARGENTINA</td>\n",
       "      <td>22.0</td>\n",
       "      <td>67.0</td>\n",
       "    </tr>\n",
       "    <tr>\n",
       "      <td>ARMENIA</td>\n",
       "      <td>0.0</td>\n",
       "      <td>9.0</td>\n",
       "    </tr>\n",
       "  </tbody>\n",
       "</table>\n",
       "</div>"
      ],
      "text/plain": [
       "decision        n     y\n",
       "citizenship            \n",
       "AFGHANISTAN   1.0   3.0\n",
       "ALBANIA       2.0  10.0\n",
       "ALGERIA       2.0   1.0\n",
       "ARGENTINA    22.0  67.0\n",
       "ARMENIA       0.0   9.0"
      ]
     },
     "execution_count": 83,
     "metadata": {},
     "output_type": "execute_result"
    }
   ],
   "source": [
    "visa_decision = (pd.pivot_table(\n",
    "    (visa.groupby(\"citizenship\")[\"decision\"]\n",
    "    .value_counts()\n",
    "    .to_frame()\n",
    "    .rename(columns={\"decision\":\"count\"})), \n",
    "    index=[\"citizenship\"], \n",
    "    columns=[\"decision\"],\n",
    "    values=\"count\")\n",
    " .fillna(0)\n",
    ").rename(columns={\"N\":\"n\", \"Y\":\"y\"})\n",
    "visa_decision.head()"
   ]
  },
  {
   "cell_type": "code",
   "execution_count": 10,
   "metadata": {},
   "outputs": [
    {
     "data": {
      "text/html": [
       "<div>\n",
       "<style scoped>\n",
       "    .dataframe tbody tr th:only-of-type {\n",
       "        vertical-align: middle;\n",
       "    }\n",
       "\n",
       "    .dataframe tbody tr th {\n",
       "        vertical-align: top;\n",
       "    }\n",
       "\n",
       "    .dataframe thead th {\n",
       "        text-align: right;\n",
       "    }\n",
       "</style>\n",
       "<table border=\"1\" class=\"dataframe\">\n",
       "  <thead>\n",
       "    <tr style=\"text-align: right;\">\n",
       "      <th>decision</th>\n",
       "      <th>n</th>\n",
       "      <th>y</th>\n",
       "      <th>percent</th>\n",
       "    </tr>\n",
       "    <tr>\n",
       "      <th>citizenship</th>\n",
       "      <th></th>\n",
       "      <th></th>\n",
       "      <th></th>\n",
       "    </tr>\n",
       "  </thead>\n",
       "  <tbody>\n",
       "    <tr>\n",
       "      <td>AFGHANISTAN</td>\n",
       "      <td>1.0</td>\n",
       "      <td>3.0</td>\n",
       "      <td>0.750000</td>\n",
       "    </tr>\n",
       "    <tr>\n",
       "      <td>ALBANIA</td>\n",
       "      <td>2.0</td>\n",
       "      <td>10.0</td>\n",
       "      <td>0.833333</td>\n",
       "    </tr>\n",
       "    <tr>\n",
       "      <td>ALGERIA</td>\n",
       "      <td>2.0</td>\n",
       "      <td>1.0</td>\n",
       "      <td>0.333333</td>\n",
       "    </tr>\n",
       "    <tr>\n",
       "      <td>ARGENTINA</td>\n",
       "      <td>22.0</td>\n",
       "      <td>67.0</td>\n",
       "      <td>0.752809</td>\n",
       "    </tr>\n",
       "    <tr>\n",
       "      <td>ARMENIA</td>\n",
       "      <td>0.0</td>\n",
       "      <td>9.0</td>\n",
       "      <td>1.000000</td>\n",
       "    </tr>\n",
       "    <tr>\n",
       "      <td>...</td>\n",
       "      <td>...</td>\n",
       "      <td>...</td>\n",
       "      <td>...</td>\n",
       "    </tr>\n",
       "    <tr>\n",
       "      <td>VIETNAM</td>\n",
       "      <td>9.0</td>\n",
       "      <td>55.0</td>\n",
       "      <td>0.859375</td>\n",
       "    </tr>\n",
       "    <tr>\n",
       "      <td>YEMEN</td>\n",
       "      <td>0.0</td>\n",
       "      <td>3.0</td>\n",
       "      <td>1.000000</td>\n",
       "    </tr>\n",
       "    <tr>\n",
       "      <td>YUGOSLAVIA</td>\n",
       "      <td>1.0</td>\n",
       "      <td>2.0</td>\n",
       "      <td>0.666667</td>\n",
       "    </tr>\n",
       "    <tr>\n",
       "      <td>ZAMBIA</td>\n",
       "      <td>1.0</td>\n",
       "      <td>3.0</td>\n",
       "      <td>0.750000</td>\n",
       "    </tr>\n",
       "    <tr>\n",
       "      <td>ZIMBABWE</td>\n",
       "      <td>1.0</td>\n",
       "      <td>16.0</td>\n",
       "      <td>0.941176</td>\n",
       "    </tr>\n",
       "  </tbody>\n",
       "</table>\n",
       "<p>161 rows × 3 columns</p>\n",
       "</div>"
      ],
      "text/plain": [
       "decision        n     y   percent\n",
       "citizenship                      \n",
       "AFGHANISTAN   1.0   3.0  0.750000\n",
       "ALBANIA       2.0  10.0  0.833333\n",
       "ALGERIA       2.0   1.0  0.333333\n",
       "ARGENTINA    22.0  67.0  0.752809\n",
       "ARMENIA       0.0   9.0  1.000000\n",
       "...           ...   ...       ...\n",
       "VIETNAM       9.0  55.0  0.859375\n",
       "YEMEN         0.0   3.0  1.000000\n",
       "YUGOSLAVIA    1.0   2.0  0.666667\n",
       "ZAMBIA        1.0   3.0  0.750000\n",
       "ZIMBABWE      1.0  16.0  0.941176\n",
       "\n",
       "[161 rows x 3 columns]"
      ]
     },
     "execution_count": 10,
     "metadata": {},
     "output_type": "execute_result"
    }
   ],
   "source": [
    "visa_decision[\"percent\"] = visa_decision[\"y\"] / (visa_decision[\"n\"] + visa_decision[\"y\"])\n",
    "# visa_decision.to_csv(\"data/visa_decision.csv\")\n",
    "visa_decision"
   ]
  },
  {
   "cell_type": "code",
   "execution_count": 61,
   "metadata": {},
   "outputs": [
    {
     "data": {
      "text/plain": [
       "Y    0.835195\n",
       "N    0.164805\n",
       "Name: decision, dtype: float64"
      ]
     },
     "execution_count": 61,
     "metadata": {},
     "output_type": "execute_result"
    }
   ],
   "source": [
    "visa[\"decision\"].value_counts() / len(visa)"
   ]
  },
  {
   "cell_type": "code",
   "execution_count": 121,
   "metadata": {},
   "outputs": [
    {
     "data": {
      "text/plain": [
       "Index(['IT', 'Advanced Mfg', 'Other Economic Sector', 'Finance',\n",
       "       'Educational Services', 'Health Care', 'Retail', 'Aerospace',\n",
       "       'Hospitality', 'Automotive'],\n",
       "      dtype='object')"
      ]
     },
     "execution_count": 121,
     "metadata": {},
     "output_type": "execute_result"
    }
   ],
   "source": [
    "job_pro = (visa[\"category\"].value_counts() / len(visa) * 100).to_frame()\n",
    "job_pro.head(10).index"
   ]
  },
  {
   "cell_type": "code",
   "execution_count": 164,
   "metadata": {},
   "outputs": [
    {
     "data": {
      "text/html": [
       "<div>\n",
       "<style scoped>\n",
       "    .dataframe tbody tr th:only-of-type {\n",
       "        vertical-align: middle;\n",
       "    }\n",
       "\n",
       "    .dataframe tbody tr th {\n",
       "        vertical-align: top;\n",
       "    }\n",
       "\n",
       "    .dataframe thead th {\n",
       "        text-align: right;\n",
       "    }\n",
       "</style>\n",
       "<table border=\"1\" class=\"dataframe\">\n",
       "  <thead>\n",
       "    <tr style=\"text-align: right;\">\n",
       "      <th></th>\n",
       "      <th>category</th>\n",
       "    </tr>\n",
       "  </thead>\n",
       "  <tbody>\n",
       "    <tr>\n",
       "      <td>IT</td>\n",
       "      <td>42.914151</td>\n",
       "    </tr>\n",
       "    <tr>\n",
       "      <td>Advanced Mfg</td>\n",
       "      <td>15.171931</td>\n",
       "    </tr>\n",
       "    <tr>\n",
       "      <td>Other</td>\n",
       "      <td>11.761810</td>\n",
       "    </tr>\n",
       "    <tr>\n",
       "      <td>Other Economic Sector</td>\n",
       "      <td>11.562281</td>\n",
       "    </tr>\n",
       "    <tr>\n",
       "      <td>Finance</td>\n",
       "      <td>6.957581</td>\n",
       "    </tr>\n",
       "    <tr>\n",
       "      <td>Educational Services</td>\n",
       "      <td>6.439325</td>\n",
       "    </tr>\n",
       "    <tr>\n",
       "      <td>Health Care</td>\n",
       "      <td>5.192921</td>\n",
       "    </tr>\n",
       "  </tbody>\n",
       "</table>\n",
       "</div>"
      ],
      "text/plain": [
       "                        category\n",
       "IT                     42.914151\n",
       "Advanced Mfg           15.171931\n",
       "Other                  11.761810\n",
       "Other Economic Sector  11.562281\n",
       "Finance                 6.957581\n",
       "Educational Services    6.439325\n",
       "Health Care             5.192921"
      ]
     },
     "execution_count": 164,
     "metadata": {},
     "output_type": "execute_result"
    }
   ],
   "source": [
    "visa.loc[~visa[\"category\"].isin(['IT', 'Advanced Mfg', 'Other Economic Sector', 'Finance',\n",
    "       'Educational Services', 'Health Care']),\"category\"] = \"Other\"\n",
    "job_pro = (visa[\"category\"].value_counts() / len(visa) * 100).to_frame()\n",
    "job_pro"
   ]
  },
  {
   "cell_type": "code",
   "execution_count": 177,
   "metadata": {},
   "outputs": [
    {
     "data": {
      "text/plain": [
       "Index(['IT', 'Advanced Mfg', 'Other', 'Other Economic Sector', 'Finance',\n",
       "       'Educational Services', 'Health Care'],\n",
       "      dtype='object')"
      ]
     },
     "execution_count": 177,
     "metadata": {},
     "output_type": "execute_result"
    }
   ],
   "source": [
    "job_pro.index"
   ]
  },
  {
   "cell_type": "code",
   "execution_count": 129,
   "metadata": {},
   "outputs": [
    {
     "data": {
      "text/plain": [
       "'{\"category\":{\"IT\":42.9141509678,\"Advanced Mfg\":15.1719312793,\"Other Economic Sector\":11.5622813609,\"Finance\":6.9575807831,\"Educational Services\":6.4393252313,\"Other\":5.4002228499,\"Health Care\":5.1929206292,\"Retail\":3.3168355316,\"Aerospace\":3.0447513669}}'"
      ]
     },
     "execution_count": 129,
     "metadata": {},
     "output_type": "execute_result"
    }
   ],
   "source": [
    "job_pro.to_json()"
   ]
  },
  {
   "cell_type": "code",
   "execution_count": 130,
   "metadata": {},
   "outputs": [
    {
     "data": {
      "text/html": [
       "<div>\n",
       "<style scoped>\n",
       "    .dataframe tbody tr th:only-of-type {\n",
       "        vertical-align: middle;\n",
       "    }\n",
       "\n",
       "    .dataframe tbody tr th {\n",
       "        vertical-align: top;\n",
       "    }\n",
       "\n",
       "    .dataframe thead th {\n",
       "        text-align: right;\n",
       "    }\n",
       "</style>\n",
       "<table border=\"1\" class=\"dataframe\">\n",
       "  <thead>\n",
       "    <tr style=\"text-align: right;\">\n",
       "      <th></th>\n",
       "      <th>name</th>\n",
       "      <th>y</th>\n",
       "    </tr>\n",
       "  </thead>\n",
       "  <tbody>\n",
       "    <tr>\n",
       "      <td>0</td>\n",
       "      <td>IT</td>\n",
       "      <td>42.914151</td>\n",
       "    </tr>\n",
       "    <tr>\n",
       "      <td>1</td>\n",
       "      <td>Advanced Mfg</td>\n",
       "      <td>15.171931</td>\n",
       "    </tr>\n",
       "    <tr>\n",
       "      <td>2</td>\n",
       "      <td>Other Economic Sector</td>\n",
       "      <td>11.562281</td>\n",
       "    </tr>\n",
       "    <tr>\n",
       "      <td>3</td>\n",
       "      <td>Finance</td>\n",
       "      <td>6.957581</td>\n",
       "    </tr>\n",
       "    <tr>\n",
       "      <td>4</td>\n",
       "      <td>Educational Services</td>\n",
       "      <td>6.439325</td>\n",
       "    </tr>\n",
       "  </tbody>\n",
       "</table>\n",
       "</div>"
      ],
      "text/plain": [
       "                    name          y\n",
       "0                     IT  42.914151\n",
       "1           Advanced Mfg  15.171931\n",
       "2  Other Economic Sector  11.562281\n",
       "3                Finance   6.957581\n",
       "4   Educational Services   6.439325"
      ]
     },
     "execution_count": 130,
     "metadata": {},
     "output_type": "execute_result"
    }
   ],
   "source": [
    "job_pro = job_pro.reset_index().rename(columns={\"index\":\"name\",\"category\":\"y\"})\n",
    "job_pro.head()"
   ]
  },
  {
   "cell_type": "code",
   "execution_count": 131,
   "metadata": {},
   "outputs": [
    {
     "data": {
      "text/plain": [
       "'[{\"name\":\"IT\",\"y\":42.9141509678},{\"name\":\"Advanced Mfg\",\"y\":15.1719312793},{\"name\":\"Other Economic Sector\",\"y\":11.5622813609},{\"name\":\"Finance\",\"y\":6.9575807831},{\"name\":\"Educational Services\",\"y\":6.4393252313},{\"name\":\"Other\",\"y\":5.4002228499},{\"name\":\"Health Care\",\"y\":5.1929206292},{\"name\":\"Retail\",\"y\":3.3168355316},{\"name\":\"Aerospace\",\"y\":3.0447513669}]'"
      ]
     },
     "execution_count": 131,
     "metadata": {},
     "output_type": "execute_result"
    }
   ],
   "source": [
    "job_pro.to_json(orient='records')"
   ]
  },
  {
   "cell_type": "code",
   "execution_count": 17,
   "metadata": {},
   "outputs": [],
   "source": [
    "job_pro.to_csv(\"data/job_pro.csv\", index=False)"
   ]
  },
  {
   "cell_type": "code",
   "execution_count": 13,
   "metadata": {},
   "outputs": [
    {
     "data": {
      "text/html": [
       "<div>\n",
       "<style scoped>\n",
       "    .dataframe tbody tr th:only-of-type {\n",
       "        vertical-align: middle;\n",
       "    }\n",
       "\n",
       "    .dataframe tbody tr th {\n",
       "        vertical-align: top;\n",
       "    }\n",
       "\n",
       "    .dataframe thead th {\n",
       "        text-align: right;\n",
       "    }\n",
       "</style>\n",
       "<table border=\"1\" class=\"dataframe\">\n",
       "  <thead>\n",
       "    <tr style=\"text-align: right;\">\n",
       "      <th></th>\n",
       "      <th>Unnamed: 0</th>\n",
       "      <th>N</th>\n",
       "      <th>Y</th>\n",
       "      <th>percent</th>\n",
       "    </tr>\n",
       "  </thead>\n",
       "  <tbody>\n",
       "    <tr>\n",
       "      <td>0</td>\n",
       "      <td>af</td>\n",
       "      <td>1.0</td>\n",
       "      <td>3.0</td>\n",
       "      <td>0.750000</td>\n",
       "    </tr>\n",
       "    <tr>\n",
       "      <td>1</td>\n",
       "      <td>al</td>\n",
       "      <td>2.0</td>\n",
       "      <td>10.0</td>\n",
       "      <td>0.833333</td>\n",
       "    </tr>\n",
       "    <tr>\n",
       "      <td>2</td>\n",
       "      <td>dz</td>\n",
       "      <td>2.0</td>\n",
       "      <td>1.0</td>\n",
       "      <td>0.333333</td>\n",
       "    </tr>\n",
       "    <tr>\n",
       "      <td>3</td>\n",
       "      <td>ar</td>\n",
       "      <td>22.0</td>\n",
       "      <td>67.0</td>\n",
       "      <td>0.752809</td>\n",
       "    </tr>\n",
       "    <tr>\n",
       "      <td>4</td>\n",
       "      <td>am</td>\n",
       "      <td>0.0</td>\n",
       "      <td>9.0</td>\n",
       "      <td>1.000000</td>\n",
       "    </tr>\n",
       "    <tr>\n",
       "      <td>...</td>\n",
       "      <td>...</td>\n",
       "      <td>...</td>\n",
       "      <td>...</td>\n",
       "      <td>...</td>\n",
       "    </tr>\n",
       "    <tr>\n",
       "      <td>154</td>\n",
       "      <td>ve</td>\n",
       "      <td>43.0</td>\n",
       "      <td>219.0</td>\n",
       "      <td>0.835878</td>\n",
       "    </tr>\n",
       "    <tr>\n",
       "      <td>155</td>\n",
       "      <td>vn</td>\n",
       "      <td>9.0</td>\n",
       "      <td>55.0</td>\n",
       "      <td>0.859375</td>\n",
       "    </tr>\n",
       "    <tr>\n",
       "      <td>156</td>\n",
       "      <td>ye</td>\n",
       "      <td>0.0</td>\n",
       "      <td>3.0</td>\n",
       "      <td>1.000000</td>\n",
       "    </tr>\n",
       "    <tr>\n",
       "      <td>157</td>\n",
       "      <td>zm</td>\n",
       "      <td>1.0</td>\n",
       "      <td>3.0</td>\n",
       "      <td>0.750000</td>\n",
       "    </tr>\n",
       "    <tr>\n",
       "      <td>158</td>\n",
       "      <td>zw</td>\n",
       "      <td>1.0</td>\n",
       "      <td>16.0</td>\n",
       "      <td>0.941176</td>\n",
       "    </tr>\n",
       "  </tbody>\n",
       "</table>\n",
       "<p>159 rows × 4 columns</p>\n",
       "</div>"
      ],
      "text/plain": [
       "    Unnamed: 0     N      Y   percent\n",
       "0           af   1.0    3.0  0.750000\n",
       "1           al   2.0   10.0  0.833333\n",
       "2           dz   2.0    1.0  0.333333\n",
       "3           ar  22.0   67.0  0.752809\n",
       "4           am   0.0    9.0  1.000000\n",
       "..         ...   ...    ...       ...\n",
       "154         ve  43.0  219.0  0.835878\n",
       "155         vn   9.0   55.0  0.859375\n",
       "156         ye   0.0    3.0  1.000000\n",
       "157         zm   1.0    3.0  0.750000\n",
       "158         zw   1.0   16.0  0.941176\n",
       "\n",
       "[159 rows x 4 columns]"
      ]
     },
     "execution_count": 13,
     "metadata": {},
     "output_type": "execute_result"
    }
   ],
   "source": [
    "pd.read_csv(\"data/visa_decision.csv\")"
   ]
  },
  {
   "cell_type": "code",
   "execution_count": null,
   "metadata": {},
   "outputs": [],
   "source": []
  }
 ],
 "metadata": {
  "kernelspec": {
   "display_name": "Python 3",
   "language": "python",
   "name": "python3"
  },
  "language_info": {
   "codemirror_mode": {
    "name": "ipython",
    "version": 3
   },
   "file_extension": ".py",
   "mimetype": "text/x-python",
   "name": "python",
   "nbconvert_exporter": "python",
   "pygments_lexer": "ipython3",
   "version": "3.7.4"
  }
 },
 "nbformat": 4,
 "nbformat_minor": 2
}
