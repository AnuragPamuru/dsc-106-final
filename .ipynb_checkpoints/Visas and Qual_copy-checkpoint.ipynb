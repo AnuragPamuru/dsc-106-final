{
 "cells": [
  {
   "cell_type": "code",
   "execution_count": 3,
   "metadata": {},
   "outputs": [],
   "source": [
    "import pandas as pd\n",
    "import numpy as np"
   ]
  },
  {
   "cell_type": "code",
   "execution_count": 4,
   "metadata": {},
   "outputs": [
    {
     "data": {
      "text/plain": [
       "Citizenship  Decision\n",
       "AFGHANISTAN  Y            3\n",
       "             N            1\n",
       "ALBANIA      Y           10\n",
       "             N            2\n",
       "ALGERIA      N            2\n",
       "                         ..\n",
       "YUGOSLAVIA   N            1\n",
       "ZAMBIA       Y            3\n",
       "             N            1\n",
       "ZIMBABWE     Y           16\n",
       "             N            1\n",
       "Name: Decision, Length: 277, dtype: int64"
      ]
     },
     "execution_count": 4,
     "metadata": {},
     "output_type": "execute_result"
    }
   ],
   "source": [
    "visa = pd.read_csv(\"visa.csv\", index_col = 0)\n",
    "\n",
    "visa.groupby(\"Citizenship\")[\"Decision\"].value_counts()"
   ]
  },
  {
   "cell_type": "code",
   "execution_count": 5,
   "metadata": {},
   "outputs": [
    {
     "data": {
      "text/plain": [
       "array(['EWI', 'H-1B', 'L-1', 'E-2', 'TPS', 'B-2', 'B-1', 'F-1', 'H-2B',\n",
       "       'VWT', 'Parolee', 'TN', 'Not in USA', 'H-4', 'F-2', 'E-3', 'O-1',\n",
       "       'H-2A', 'H-1B1', 'E-1', 'G-5', 'A-3', 'A1/A2', 'H-3', 'P-1', 'C-1',\n",
       "       'L-2', 'VWB', 'J-1', 'O-3', 'O-2', 'J-2', 'G-4', 'H-1A', 'R-1',\n",
       "       'I', 'H1B', 'N', 'T-1', 'TD', 'Parol', 'AOS/H-1B', 'M-1', 'P-3',\n",
       "       'K-1'], dtype=object)"
      ]
     },
     "execution_count": 5,
     "metadata": {},
     "output_type": "execute_result"
    }
   ],
   "source": [
    "visa[\"Visa Class\"].unique()"
   ]
  },
  {
   "cell_type": "markdown",
   "metadata": {},
   "source": [
    "- H-1B: work visa for professionals working in US\n",
    "- L-1: work visa for foreiners opening business in US\n",
    "- F-1: student visa\n",
    "- Parolee: a permit for non-US national who does not have valid immigrant visa, but need to reenter"
   ]
  },
  {
   "cell_type": "code",
   "execution_count": 8,
   "metadata": {},
   "outputs": [
    {
     "data": {
      "text/plain": [
       "H-1B       0.851572\n",
       "L-1        0.036200\n",
       "F-1        0.028478\n",
       "Parolee    0.019538\n",
       "Name: Visa Class, dtype: float64"
      ]
     },
     "execution_count": 8,
     "metadata": {},
     "output_type": "execute_result"
    }
   ],
   "source": [
    "(visa[\"Visa Class\"].value_counts() / len(visa)).head(4)"
   ]
  },
  {
   "cell_type": "code",
   "execution_count": 6,
   "metadata": {},
   "outputs": [
    {
     "data": {
      "text/plain": [
       "45"
      ]
     },
     "execution_count": 6,
     "metadata": {},
     "output_type": "execute_result"
    }
   ],
   "source": [
    "len(visa[\"Visa Class\"].unique())"
   ]
  },
  {
   "cell_type": "code",
   "execution_count": null,
   "metadata": {},
   "outputs": [],
   "source": []
  },
  {
   "cell_type": "code",
   "execution_count": null,
   "metadata": {},
   "outputs": [],
   "source": []
  },
  {
   "cell_type": "code",
   "execution_count": null,
   "metadata": {},
   "outputs": [],
   "source": []
  },
  {
   "cell_type": "code",
   "execution_count": null,
   "metadata": {},
   "outputs": [],
   "source": []
  }
 ],
 "metadata": {
  "kernelspec": {
   "display_name": "Python 3",
   "language": "python",
   "name": "python3"
  },
  "language_info": {
   "codemirror_mode": {
    "name": "ipython",
    "version": 3
   },
   "file_extension": ".py",
   "mimetype": "text/x-python",
   "name": "python",
   "nbconvert_exporter": "python",
   "pygments_lexer": "ipython3",
   "version": "3.7.4"
  }
 },
 "nbformat": 4,
 "nbformat_minor": 2
}
