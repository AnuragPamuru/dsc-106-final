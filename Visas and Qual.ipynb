{
 "cells": [
  {
   "cell_type": "code",
   "execution_count": 1,
   "metadata": {},
   "outputs": [],
   "source": [
    "import pandas as pd\n",
    "import numpy as np"
   ]
  },
  {
   "cell_type": "code",
   "execution_count": null,
   "metadata": {},
   "outputs": [],
   "source": []
  },
  {
   "cell_type": "code",
   "execution_count": 8,
   "metadata": {},
   "outputs": [
    {
     "data": {
      "text/plain": [
       "H-1B          32863\n",
       "L-1            1397\n",
       "F-1            1099\n",
       "Parolee         754\n",
       "B-2             380\n",
       "E-2             336\n",
       "EWI             325\n",
       "TN              324\n",
       "Not in USA      283\n",
       "H-4              96\n",
       "J-1              83\n",
       "H-1B1            82\n",
       "B-1              76\n",
       "F-2              75\n",
       "O-1              75\n",
       "E-3              61\n",
       "E-1              58\n",
       "L-2              44\n",
       "H-2B             41\n",
       "I                15\n",
       "H-2A             15\n",
       "TPS              13\n",
       "G-4              12\n",
       "P-1              11\n",
       "A1/A2            11\n",
       "C-1              10\n",
       "VWT               7\n",
       "H-1A              7\n",
       "G-5               7\n",
       "R-1               4\n",
       "J-2               3\n",
       "O-2               3\n",
       "M-1               3\n",
       "H-3               2\n",
       "VWB               2\n",
       "O-3               2\n",
       "A-3               2\n",
       "P-3               2\n",
       "Parol             2\n",
       "AOS/H-1B          1\n",
       "K-1               1\n",
       "N                 1\n",
       "H1B               1\n",
       "T-1               1\n",
       "TD                1\n",
       "Name: Visa Class, dtype: int64"
      ]
     },
     "execution_count": 8,
     "metadata": {},
     "output_type": "execute_result"
    }
   ],
   "source": [
    "visa[\"Visa Class\"].value_counts()"
   ]
  },
  {
   "cell_type": "code",
   "execution_count": null,
   "metadata": {},
   "outputs": [],
   "source": []
  },
  {
   "cell_type": "code",
   "execution_count": null,
   "metadata": {},
   "outputs": [],
   "source": []
  },
  {
   "cell_type": "code",
   "execution_count": null,
   "metadata": {},
   "outputs": [],
   "source": []
  },
  {
   "cell_type": "code",
   "execution_count": null,
   "metadata": {},
   "outputs": [],
   "source": []
  },
  {
   "cell_type": "code",
   "execution_count": null,
   "metadata": {},
   "outputs": [],
   "source": []
  },
  {
   "cell_type": "code",
   "execution_count": null,
   "metadata": {},
   "outputs": [],
   "source": []
  }
 ],
 "metadata": {
  "kernelspec": {
   "display_name": "Python 3",
   "language": "python",
   "name": "python3"
  },
  "language_info": {
   "codemirror_mode": {
    "name": "ipython",
    "version": 3
   },
   "file_extension": ".py",
   "mimetype": "text/x-python",
   "name": "python",
   "nbconvert_exporter": "python",
   "pygments_lexer": "ipython3",
   "version": "3.7.3"
  }
 },
 "nbformat": 4,
 "nbformat_minor": 2
}
