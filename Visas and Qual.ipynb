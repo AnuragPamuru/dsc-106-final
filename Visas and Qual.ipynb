{
 "cells": [
  {
   "cell_type": "code",
   "execution_count": 1,
   "metadata": {},
   "outputs": [],
   "source": [
    "import pandas as pd\n",
    "import numpy as np"
   ]
  },
  {
   "cell_type": "code",
   "execution_count": 2,
   "metadata": {},
   "outputs": [],
   "source": []
  },
  {
   "cell_type": "code",
   "execution_count": 28,
   "metadata": {},
   "outputs": [
    {
     "data": {
      "text/plain": [
       "Citizenship               Decision\n",
       "AFGHANISTAN               Y             3\n",
       "                          N             1\n",
       "ALBANIA                   Y            10\n",
       "                          N             2\n",
       "ALGERIA                   N             2\n",
       "                          Y             1\n",
       "ARGENTINA                 Y            67\n",
       "                          N            22\n",
       "ARMENIA                   Y             9\n",
       "AUSTRALIA                 Y           122\n",
       "                          N            28\n",
       "AUSTRIA                   Y            15\n",
       "                          N             1\n",
       "AZERBAIJAN                Y             7\n",
       "BAHAMAS                   Y             8\n",
       "                          N             2\n",
       "BAHRAIN                   Y             1\n",
       "BANGLADESH                Y            98\n",
       "                          N            22\n",
       "BARBADOS                  Y            10\n",
       "                          N             1\n",
       "BELARUS                   Y            36\n",
       "                          N             9\n",
       "BELGIUM                   Y            27\n",
       "                          N             2\n",
       "BELIZE                    Y             2\n",
       "BENIN                     Y             1\n",
       "BERMUDA                   N             1\n",
       "                          Y             1\n",
       "BHUTAN                    Y             1\n",
       "                                     ... \n",
       "TRINIDAD AND TOBAGO       Y            40\n",
       "                          N             7\n",
       "TUNISIA                   Y             7\n",
       "TURKEY                    Y           240\n",
       "                          N            33\n",
       "TURKMENISTAN              Y             3\n",
       "UGANDA                    Y             5\n",
       "                          N             2\n",
       "UKRAINE                   Y            91\n",
       "                          N            21\n",
       "UNITED ARAB EMIRATES      Y             1\n",
       "UNITED KINGDOM            Y           444\n",
       "                          N            92\n",
       "UNITED STATES OF AMERICA  Y            57\n",
       "                          N            21\n",
       "URUGUAY                   Y            14\n",
       "UZBEKISTAN                Y             8\n",
       "                          N             2\n",
       "VANUATU                   Y             1\n",
       "VENEZUELA                 Y           219\n",
       "                          N            43\n",
       "VIETNAM                   Y            55\n",
       "                          N             9\n",
       "YEMEN                     Y             3\n",
       "YUGOSLAVIA                Y             2\n",
       "                          N             1\n",
       "ZAMBIA                    Y             3\n",
       "                          N             1\n",
       "ZIMBABWE                  Y            16\n",
       "                          N             1\n",
       "Name: Decision, Length: 277, dtype: int64"
      ]
     },
     "execution_count": 28,
     "metadata": {},
     "output_type": "execute_result"
    }
   ],
   "source": [
    "visa = pd.read_csv(\"visa.csv\", index_col = 0)\n",
    "\n",
    "visa.groupby(\"Citizenship\")[\"Decision\"].value_counts()"
   ]
  },
  {
   "cell_type": "code",
   "execution_count": null,
   "metadata": {},
   "outputs": [],
   "source": []
  },
  {
   "cell_type": "code",
   "execution_count": null,
   "metadata": {},
   "outputs": [],
   "source": []
  },
  {
   "cell_type": "code",
   "execution_count": null,
   "metadata": {},
   "outputs": [],
   "source": []
  },
  {
   "cell_type": "code",
   "execution_count": null,
   "metadata": {},
   "outputs": [],
   "source": []
  },
  {
   "cell_type": "code",
   "execution_count": null,
   "metadata": {},
   "outputs": [],
   "source": []
  },
  {
   "cell_type": "code",
   "execution_count": null,
   "metadata": {},
   "outputs": [],
   "source": []
  }
 ],
 "metadata": {
  "kernelspec": {
   "display_name": "Python 3",
   "language": "python",
   "name": "python3"
  },
  "language_info": {
   "codemirror_mode": {
    "name": "ipython",
    "version": 3
   },
   "file_extension": ".py",
   "mimetype": "text/x-python",
   "name": "python",
   "nbconvert_exporter": "python",
   "pygments_lexer": "ipython3",
   "version": "3.7.3"
  }
 },
 "nbformat": 4,
 "nbformat_minor": 2
}
